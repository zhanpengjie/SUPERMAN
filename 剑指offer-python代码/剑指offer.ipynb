{
 "cells": [
  {
   "cell_type": "markdown",
   "metadata": {},
   "source": [
    "1.二维数组"
   ]
  },
  {
   "cell_type": "code",
   "execution_count": 146,
   "metadata": {},
   "outputs": [],
   "source": [
    "class Solution:\n",
    "    def find(self,target,array):\n",
    "        \n",
    "        if type(target) is not int:\n",
    "            return 'False int is required'\n",
    "        if array==[]:\n",
    "            return 'False array is empty'\n",
    "\n",
    "        row=len(array)\n",
    "        col=len(array[0])\n",
    "        j=0\n",
    "        i=col-1\n",
    "        while j<row and i>-1:\n",
    "            if target>array[j][i]:\n",
    "                j+=1\n",
    "            elif target<array[j][i]:\n",
    "                i-=1\n",
    "            else:\n",
    "                return 'True I Love Hmm'\n",
    "        return 'False'"
   ]
  },
  {
   "cell_type": "code",
   "execution_count": 151,
   "metadata": {},
   "outputs": [
    {
     "data": {
      "text/plain": [
       "'True I Love Hmm'"
      ]
     },
     "execution_count": 151,
     "metadata": {},
     "output_type": "execute_result"
    }
   ],
   "source": [
    "super=[[1,2,3,4,5],\n",
    "       [6,7,8.0,9,10]]\n",
    "zpj=Solution()\n",
    "zpj.find(8,super)"
   ]
  },
  {
   "cell_type": "markdown",
   "metadata": {},
   "source": [
    "2.替换空格"
   ]
  },
  {
   "cell_type": "code",
   "execution_count": 89,
   "metadata": {},
   "outputs": [],
   "source": [
    "class Solution:\n",
    "    def replaceSpace(self,s):\n",
    "        string=list(s)\n",
    "        stringReplace=[]\n",
    "        for item in string:\n",
    "            if item==' ':\n",
    "                stringReplace.append('%20')\n",
    "            else:\n",
    "                stringReplace.append(item)\n",
    "        return ''.join(stringReplace)"
   ]
  },
  {
   "cell_type": "code",
   "execution_count": 90,
   "metadata": {},
   "outputs": [
    {
     "name": "stdout",
     "output_type": "stream",
     "text": [
      "I%20Love%20Hmm\n"
     ]
    }
   ],
   "source": [
    "s='I Love Hmm'\n",
    "replace=Solution()\n",
    "print(replace.replaceSpace(s))"
   ]
  },
  {
   "cell_type": "markdown",
   "metadata": {},
   "source": [
    "3.输入一个链表，从尾到头打印链表每个节点的值"
   ]
  },
  {
   "cell_type": "code",
   "execution_count": 158,
   "metadata": {},
   "outputs": [],
   "source": [
    "class ListNode:\n",
    "    def __init__(self,x):\n",
    "        self.val=x\n",
    "        self.next=None\n",
    "        \n",
    "class Solution:\n",
    "    def reverselist(self,listNode):\n",
    "        if listNode.val==None:\n",
    "            return\n",
    "        list=[]\n",
    "        head=listNode\n",
    "        while head:\n",
    "            list.insert(0,head.val)\n",
    "            head=head.next\n",
    "        return list"
   ]
  },
  {
   "cell_type": "code",
   "execution_count": 159,
   "metadata": {},
   "outputs": [
    {
     "name": "stdout",
     "output_type": "stream",
     "text": [
      "['I', 'Love', 'Hmm']\n"
     ]
    }
   ],
   "source": [
    "node1=ListNode('Hmm')\n",
    "node2=ListNode('Love')\n",
    "node3=ListNode('I')\n",
    "node1.next=node2\n",
    "node2.next=node3\n",
    "test=Solution()\n",
    "print(test.reverselist(node1))"
   ]
  },
  {
   "cell_type": "markdown",
   "metadata": {},
   "source": [
    "4.重建二叉树"
   ]
  },
  {
   "cell_type": "code",
   "execution_count": 1,
   "metadata": {},
   "outputs": [],
   "source": [
    "class TreeNode:\n",
    "    def __init__(self, x):\n",
    "        self.val = x\n",
    "        self.left = None\n",
    "        self.right = None\n",
    "class Solution:\n",
    "    # 返回构造的TreeNode根节点\n",
    "    def reConstructBinaryTree(self, pre, tin):\n",
    "        # write code here\n",
    "        if not pre or not tin:\n",
    "            return None\n",
    "        elif set(pre) != set(tin):\n",
    "            return None\n",
    "        elif len(pre)==1:\n",
    "            root=TreeNode(pre[0])\n",
    "            return root   \n",
    "        else:\n",
    "            root = TreeNode(pre[0])\n",
    "            i = tin.index(pre[0])\n",
    "            root.left = self.reConstructBinaryTree(pre[1:i+1], tin[:i])\n",
    "            root.right = self.reConstructBinaryTree(pre[i+1:], tin[i+1:])\n",
    "        return root\n",
    "    \n",
    "    def PrintFromTopToBottom(self, root):\n",
    "        ans=[]\n",
    "        if root==None:\n",
    "            return ans\n",
    "        else:\n",
    "            q=[root]\n",
    "            while q:\n",
    "                node=q.pop(0)\n",
    "                ans.append(node.val)\n",
    "                if node.left:\n",
    "                    q.append(node.left)\n",
    "                if node.right:\n",
    "                    q.append(node.right)\n",
    "            print(ans)"
   ]
  },
  {
   "cell_type": "code",
   "execution_count": 2,
   "metadata": {},
   "outputs": [
    {
     "name": "stdout",
     "output_type": "stream",
     "text": [
      "[1, 2, 3, 4, 5, 6, 7, 8]\n"
     ]
    }
   ],
   "source": [
    "pre = [1, 2, 4, 7, 3, 5, 6, 8]\n",
    "tin = [4, 7, 2, 1, 5, 3, 8, 6]\n",
    "test = Solution()\n",
    "newTree = test.reConstructBinaryTree(pre, tin)\n",
    "test.PrintFromTopToBottom(newTree)"
   ]
  },
  {
   "cell_type": "markdown",
   "metadata": {},
   "source": [
    "5.两个栈实现队列"
   ]
  },
  {
   "cell_type": "code",
   "execution_count": 63,
   "metadata": {},
   "outputs": [],
   "source": [
    "class Solution:\n",
    "    def __init__(self):\n",
    "        self.stack1=[] \n",
    "        self.stack2=[]\n",
    "        \n",
    "    def push(self,node):\n",
    "        self.stack1.append(node)\n",
    "        \n",
    "    def pop(self):\n",
    "        if len(self.stack2)==0:\n",
    "            while self.stack1:\n",
    "                self.stack2.append(self.stack1.pop())\n",
    "        return self.stack2.pop()"
   ]
  },
  {
   "cell_type": "code",
   "execution_count": 67,
   "metadata": {},
   "outputs": [
    {
     "name": "stdout",
     "output_type": "stream",
     "text": [
      "['I']\n",
      "['I', 'Love']\n",
      "['I', 'Love', 'Hmm']\n",
      "I\n",
      "['Hmm', 'Love']\n",
      "Love\n",
      "['Hmm']\n",
      "Hmm\n",
      "[]\n"
     ]
    }
   ],
   "source": [
    "p=Solution()\n",
    "p.push('I')\n",
    "print(p.stack1)\n",
    "p.push('Love')\n",
    "print(p.stack1)\n",
    "p.push('Hmm')\n",
    "print(p.stack1)\n",
    "print(p.pop())\n",
    "print(p.stack2)\n",
    "print(p.pop())\n",
    "print(p.stack2)\n",
    "print(p.pop())\n",
    "print(p.stack2)"
   ]
  },
  {
   "cell_type": "markdown",
   "metadata": {},
   "source": [
    "6.旋转数组的最小数字"
   ]
  },
  {
   "cell_type": "code",
   "execution_count": 72,
   "metadata": {},
   "outputs": [],
   "source": [
    "class Solution:\n",
    "    def min(self,array):\n",
    "        if len(array)==0:\n",
    "            return 0        \n",
    "        front=0\n",
    "        tail=len(array)-1\n",
    "        if array[front]<array[tail]:\n",
    "            return array[front]\n",
    "        else:\n",
    "            while (tail-front)>1:\n",
    "                mid=(front+tail)//2\n",
    "                if array[mid]>array[tail]:\n",
    "                    front=mid\n",
    "                elif array[mid]<array[front]:\n",
    "                    tail=mid\n",
    "                elif array[mid]==array[front] and array[front]==array[tail]:\n",
    "                    for i in range(1,len(array)):\n",
    "                        if array[i]<array[0]:\n",
    "                            minval=array[i]\n",
    "                            tail=i\n",
    "            return array[tail]"
   ]
  },
  {
   "cell_type": "code",
   "execution_count": 79,
   "metadata": {},
   "outputs": [
    {
     "name": "stdout",
     "output_type": "stream",
     "text": [
      "1\n",
      "0\n",
      "3\n"
     ]
    }
   ],
   "source": [
    "test=Solution()\n",
    "print(test.min([4,5,1,2,3]))\n",
    "print(test.min([]))\n",
    "print(test.min([8,2,9,10,3,4,5]))"
   ]
  },
  {
   "cell_type": "markdown",
   "metadata": {},
   "source": [
    "7.斐波那契数列"
   ]
  },
  {
   "cell_type": "code",
   "execution_count": 1,
   "metadata": {},
   "outputs": [],
   "source": [
    "class Solution:\n",
    "    def fb(self,n):\n",
    "        a,b=0,1\n",
    "        if n<=0:\n",
    "            return 0\n",
    "        else:\n",
    "            for i in range(n):\n",
    "               a,b=b,a+b\n",
    "            return a"
   ]
  },
  {
   "cell_type": "code",
   "execution_count": 6,
   "metadata": {},
   "outputs": [
    {
     "name": "stdout",
     "output_type": "stream",
     "text": [
      "5\n"
     ]
    }
   ],
   "source": [
    "test=Solution()\n",
    "print(test.fb(5))"
   ]
  },
  {
   "cell_type": "markdown",
   "metadata": {},
   "source": [
    "8.青蛙跳台阶"
   ]
  },
  {
   "cell_type": "code",
   "execution_count": 7,
   "metadata": {},
   "outputs": [],
   "source": [
    "class Solution:\n",
    "    def fb(self,n):\n",
    "        a,b=0,1\n",
    "        if n<=0:\n",
    "            return 0\n",
    "        else:\n",
    "            for i in range(n):\n",
    "               a,b=b,a+b\n",
    "            return b"
   ]
  },
  {
   "cell_type": "code",
   "execution_count": 8,
   "metadata": {},
   "outputs": [
    {
     "name": "stdout",
     "output_type": "stream",
     "text": [
      "2\n"
     ]
    }
   ],
   "source": [
    "test=Solution()\n",
    "print(test.fb(2))"
   ]
  },
  {
   "cell_type": "markdown",
   "metadata": {},
   "source": [
    "9.变态青蛙跳台阶"
   ]
  },
  {
   "cell_type": "code",
   "execution_count": 9,
   "metadata": {},
   "outputs": [],
   "source": [
    "class Solution:\n",
    "    def frog(self,n):\n",
    "        if n<=2:\n",
    "            return n\n",
    "        else:\n",
    "            ans=1\n",
    "            for i in range(n-1):\n",
    "                ans*=2\n",
    "            return ans"
   ]
  },
  {
   "cell_type": "code",
   "execution_count": 14,
   "metadata": {},
   "outputs": [
    {
     "name": "stdout",
     "output_type": "stream",
     "text": [
      "8\n"
     ]
    }
   ],
   "source": [
    "test=Solution()\n",
    "print(test.frog(4))"
   ]
  },
  {
   "cell_type": "markdown",
   "metadata": {},
   "source": [
    "10.矩形覆盖"
   ]
  },
  {
   "cell_type": "code",
   "execution_count": 17,
   "metadata": {},
   "outputs": [],
   "source": [
    "class Solution:\n",
    "    def rectangle(self,n):\n",
    "        if n<=2:\n",
    "            return n\n",
    "        else:\n",
    "            a,b=1,1\n",
    "            for i in range(n-1):\n",
    "                a,b=b,a+b\n",
    "            return b"
   ]
  },
  {
   "cell_type": "code",
   "execution_count": 20,
   "metadata": {},
   "outputs": [
    {
     "name": "stdout",
     "output_type": "stream",
     "text": [
      "5\n"
     ]
    }
   ],
   "source": [
    "test=Solution()\n",
    "print(test.rectangle(4))"
   ]
  },
  {
   "cell_type": "markdown",
   "metadata": {},
   "source": [
    "11.二进制1的个数"
   ]
  },
  {
   "cell_type": "code",
   "execution_count": 34,
   "metadata": {},
   "outputs": [],
   "source": [
    "class Solution:\n",
    "    def sum(self,n):\n",
    "        count=0\n",
    "        for i in range(32):\n",
    "            count=count+((n>>i)&1)\n",
    "        return count"
   ]
  },
  {
   "cell_type": "code",
   "execution_count": 37,
   "metadata": {},
   "outputs": [
    {
     "name": "stdout",
     "output_type": "stream",
     "text": [
      "32\n"
     ]
    }
   ],
   "source": [
    "test=Solution()\n",
    "print(test.sum(-1))"
   ]
  },
  {
   "cell_type": "markdown",
   "metadata": {},
   "source": [
    "12.浮点数的整数次方"
   ]
  },
  {
   "cell_type": "code",
   "execution_count": 67,
   "metadata": {},
   "outputs": [],
   "source": [
    "class Solution:\n",
    "    def power(self,base,exponent):\n",
    "        result=1\n",
    "        if base==0:\n",
    "            return 0\n",
    "        if exponent==0:\n",
    "            return 1\n",
    "        else:\n",
    "            for i in range(abs(exponent)):\n",
    "                result=base*result\n",
    "            if exponent>0:\n",
    "                return result\n",
    "            else:\n",
    "                return 1.0/result"
   ]
  },
  {
   "cell_type": "code",
   "execution_count": 68,
   "metadata": {},
   "outputs": [
    {
     "name": "stdout",
     "output_type": "stream",
     "text": [
      "5\n",
      "2\n",
      "0\n"
     ]
    }
   ],
   "source": [
    "test=Solution()\n",
    "print(test.power(5,1))\n",
    "print(test.power(2,1))\n",
    "print(test.power(0,3))"
   ]
  },
  {
   "cell_type": "markdown",
   "metadata": {},
   "source": [
    "13.调整数组顺序使奇数位于偶数前面"
   ]
  },
  {
   "cell_type": "code",
   "execution_count": 64,
   "metadata": {},
   "outputs": [],
   "source": [
    "class Solution:\n",
    "    def reorder(self,array):\n",
    "        index=-1\n",
    "        for i in range(len(array)):\n",
    "            if array[i]%2:\n",
    "                index+=1\n",
    "                array.insert(index,array.pop(i))\n",
    "        return array"
   ]
  },
  {
   "cell_type": "code",
   "execution_count": 65,
   "metadata": {},
   "outputs": [
    {
     "name": "stdout",
     "output_type": "stream",
     "text": [
      "[5, 2, 0]\n"
     ]
    }
   ],
   "source": [
    "test=Solution()\n",
    "print(test.reorder([2,0,5]))"
   ]
  },
  {
   "cell_type": "markdown",
   "metadata": {},
   "source": [
    "14.输出链表倒数第k个节点"
   ]
  },
  {
   "cell_type": "code",
   "execution_count": 61,
   "metadata": {},
   "outputs": [],
   "source": [
    "class ListNode:\n",
    "    def __init__(self,x):\n",
    "        self.val=x\n",
    "        self.next=None\n",
    "        \n",
    "class Solution:\n",
    "    def listk(self,head,k):\n",
    "        if head==0 or k==0:\n",
    "            return None\n",
    "        p1=head\n",
    "        p2=head\n",
    "        for i in range(k-1):\n",
    "            if p1.next==None:\n",
    "                return None\n",
    "            else:\n",
    "                p1=p1.next\n",
    "        while p1.next!=None:\n",
    "            p1=p1.next\n",
    "            p2=p2.next\n",
    "        return p2"
   ]
  },
  {
   "cell_type": "code",
   "execution_count": 62,
   "metadata": {},
   "outputs": [
    {
     "name": "stdout",
     "output_type": "stream",
     "text": [
      "I Love Hmm\n"
     ]
    }
   ],
   "source": [
    "node1=ListNode('Hmm')\n",
    "node2=ListNode('I Love Hmm')\n",
    "node3=ListNode('I')\n",
    "node1.next=node2\n",
    "node2.next=node3\n",
    "test=Solution()\n",
    "print(test.listk(node1,2).val)"
   ]
  },
  {
   "cell_type": "markdown",
   "metadata": {},
   "source": [
    "15.反转链表"
   ]
  },
  {
   "cell_type": "code",
   "execution_count": 85,
   "metadata": {},
   "outputs": [],
   "source": [
    "#递归\n",
    "class ListNode:\n",
    "    def __init__(self, x):\n",
    "        self.val = x\n",
    "        self.next = None\n",
    "class Solution:        \n",
    "    def reverselist(self,head):\n",
    "        if not head or not head.next:\n",
    "            return head\n",
    "        else:\n",
    "            relist=self.reverselist(head.next)\n",
    "            head.next.next=head\n",
    "            head.next=None\n",
    "            return relist"
   ]
  },
  {
   "cell_type": "code",
   "execution_count": 87,
   "metadata": {},
   "outputs": [
    {
     "name": "stdout",
     "output_type": "stream",
     "text": [
      "13\n"
     ]
    }
   ],
   "source": [
    "node1 = ListNode(10)\n",
    "node2 = ListNode(11)\n",
    "node3 = ListNode(13)\n",
    "node1.next = node2\n",
    "node2.next = node3\n",
    "S = Solution()\n",
    "p = S.reverselist(node1)\n",
    "print(p.val)"
   ]
  },
  {
   "cell_type": "code",
   "execution_count": 93,
   "metadata": {},
   "outputs": [
    {
     "name": "stdout",
     "output_type": "stream",
     "text": [
      "13\n"
     ]
    }
   ],
   "source": [
    "#迭代新链表\n",
    "class Solution:\n",
    "    # 返回ListNode\n",
    "    def ReverseList(self, pHead):\n",
    "        # write code here\n",
    "        if pHead == None or pHead.next == None:\n",
    "            return pHead  \n",
    "        cur = pHead \n",
    "        tmp = None\n",
    "        newhead = None  \n",
    "        while cur:  \n",
    "            tmp = cur.next   \n",
    "            cur.next = newhead  \n",
    "            newhead = cur\n",
    "            cur = tmp  \n",
    "        return newhead\n",
    "\n",
    "#可以修改原链表的话，更简单\n",
    "class Solution:\n",
    "    def ReverseList(self, head):\n",
    "        if not head or not head.next:\n",
    "            return head\n",
    "        Node = None\n",
    "        while head:\n",
    "            p = head\n",
    "            head = head.next\n",
    "            p.next = Node\n",
    "            Node = p\n",
    "        return Node\n",
    "node1 = ListNode(10)\n",
    "node2 = ListNode(11)\n",
    "node3 = ListNode(13)\n",
    "node1.next = node2\n",
    "node2.next = node3\n",
    "S = Solution()\n",
    "p = S.ReverseList(node1)\n",
    "print(p.val)"
   ]
  },
  {
   "cell_type": "markdown",
   "metadata": {},
   "source": [
    "16.合并两个排序的链表"
   ]
  },
  {
   "cell_type": "code",
   "execution_count": 97,
   "metadata": {},
   "outputs": [],
   "source": [
    "class ListNode:\n",
    "    def __init__(self,x):\n",
    "        self.val=x\n",
    "        self.next=None\n",
    "        \n",
    "class Solution:\n",
    "    def hb(self,head1,head2):\n",
    "        if not head1:\n",
    "            return head2\n",
    "        elif not head2:\n",
    "            return head1\n",
    "        newhead=None\n",
    "        if head1.val < head2.val:\n",
    "            newhead=head1\n",
    "            newhead.next=self.hb(head1.next,head2)\n",
    "        else:\n",
    "            newhead=head2\n",
    "            newhead.next=self.hb(head1,head2.next)\n",
    "        return newhead"
   ]
  },
  {
   "cell_type": "code",
   "execution_count": 99,
   "metadata": {},
   "outputs": [
    {
     "name": "stdout",
     "output_type": "stream",
     "text": [
      "3\n"
     ]
    }
   ],
   "source": [
    "node1 = ListNode(1)\n",
    "node2 = ListNode(3)\n",
    "node3 = ListNode(5)\n",
    "node1.next = node2\n",
    "node2.next = node3\n",
    "\n",
    "node4 = ListNode(2)\n",
    "node5 = ListNode(4)\n",
    "node6 = ListNode(6)\n",
    "node4.next = node5\n",
    "node5.next = node6\n",
    "\n",
    "S = Solution()\n",
    "S.hb(node1, node4)\n",
    "print(node4.next.val)"
   ]
  },
  {
   "cell_type": "markdown",
   "metadata": {},
   "source": [
    "17.树的子结构"
   ]
  },
  {
   "cell_type": "code",
   "execution_count": 6,
   "metadata": {},
   "outputs": [],
   "source": [
    "class TreeNode:\n",
    "    def __init__(self, x):\n",
    "        self.val = x\n",
    "        self.left = None\n",
    "        self.right = None\n",
    "\n",
    "class Solution:\n",
    "    #先确定是否存在相同的根节点\n",
    "    def HasSubtree(self, pRoot1, pRoot2):\n",
    "        if pRoot1 != None and pRoot2 != None:\n",
    "            result=False\n",
    "            if pRoot1.val==pRoot2.val:\n",
    "                result=self.is_subtree(pRoot1,pRoot2)\n",
    "            if not result:\n",
    "                result=self.HasSubtree(pRoot1.left,pRoot2)\n",
    "            if not result:\n",
    "                result=self.HasSubtree(pRoot1.right,pRoot2)\n",
    "        return result\n",
    "    # 用于递归判断树的每个节点是否相同\n",
    "    # 需要注意的地方是: 前两个if语句不可以颠倒顺序\n",
    "    # 如果颠倒顺序, 会先判断pRoot1是否为None, 其实这个时候pRoot2的结点已经遍历完成确定相等了, 但是返回了False, 判断错误\n",
    "    def is_subtree(self, A, B):\n",
    "        if not B:\n",
    "            return True\n",
    "        if not A or A.val != B.val:\n",
    "            return False\n",
    "        return self.is_subtree(A.left, B.left) and self.is_subtree(A.right, B.right)"
   ]
  },
  {
   "cell_type": "code",
   "execution_count": 7,
   "metadata": {},
   "outputs": [
    {
     "name": "stdout",
     "output_type": "stream",
     "text": [
      "True\n"
     ]
    }
   ],
   "source": [
    "pRoot1 = TreeNode(8)\n",
    "pRoot2 = TreeNode(8)\n",
    "pRoot3 = TreeNode(7)\n",
    "pRoot4 = TreeNode(9)\n",
    "pRoot5 = TreeNode(2)\n",
    "pRoot6 = TreeNode(4)\n",
    "pRoot7 = TreeNode(7)\n",
    "pRoot1.left = pRoot2\n",
    "pRoot1.right = pRoot3\n",
    "pRoot2.left = pRoot4\n",
    "pRoot2.right = pRoot5\n",
    "pRoot5.left = pRoot6\n",
    "pRoot5.right = pRoot7\n",
    "\n",
    "pRoot8 = TreeNode(8)\n",
    "pRoot9 = TreeNode(9)\n",
    "pRoot10 = TreeNode(2)\n",
    "pRoot8.left = pRoot9\n",
    "pRoot8.right = pRoot10\n",
    "\n",
    "S = Solution()\n",
    "print(S.HasSubtree(pRoot1, pRoot8))"
   ]
  },
  {
   "cell_type": "markdown",
   "metadata": {},
   "source": [
    "18.二叉树的镜像"
   ]
  },
  {
   "cell_type": "code",
   "execution_count": 12,
   "metadata": {},
   "outputs": [],
   "source": [
    "class TreeNode:\n",
    "    def __init__(self, x):\n",
    "        self.val = x\n",
    "        self.left = None\n",
    "        self.right = None\n",
    "class Solution:\n",
    "    # 递归实现\n",
    "    def Mirror(self, root):\n",
    "        #为空直接返回\n",
    "        if root == None:\n",
    "            return\n",
    "        #没有子节点则直接返回根节点\n",
    "        if root.left == None and root.right == None:\n",
    "            return root\n",
    "        #有子节点则交换左右节点\n",
    "        pTemp = root.left\n",
    "        root.left = root.right\n",
    "        root.right = pTemp\n",
    "        #左右节点迭代镜像\n",
    "        self.Mirror(root.left)\n",
    "        self.Mirror(root.right)\n",
    "\n",
    "    # 非递归实现\n",
    "    def Mirror2(self, root):\n",
    "        if root == None:\n",
    "            return\n",
    "        stackNode = []\n",
    "        stackNode.append(root)\n",
    "        while len(stackNode) > 0:\n",
    "            nodeNum = len(stackNode) - 1\n",
    "            tree = stackNode[nodeNum]\n",
    "            stackNode.pop()\n",
    "            nodeNum -= 1\n",
    "            if tree.left != None or tree.right != None:\n",
    "                tree.left, tree.right = tree.right, tree.left\n",
    "            if tree.left:\n",
    "                stackNode.append(tree.left)\n",
    "                nodeNum += 1\n",
    "            if tree.right:\n",
    "                stackNode.append(tree.right)\n",
    "                nodeNum += 1\n",
    "    # 非递归实现\n",
    "    def MirrorNoRecursion(self, root):\n",
    "        if root == None:\n",
    "            return\n",
    "        nodeQue = [root]\n",
    "        while len(nodeQue) > 0:\n",
    "            curLevel, count = len(nodeQue), 0\n",
    "            while count < curLevel:\n",
    "                count += 1\n",
    "                pRoot = nodeQue.pop(0)\n",
    "                pRoot.left, pRoot.right = pRoot.right, pRoot.left\n",
    "                if pRoot.left:\n",
    "                    nodeQue.append(pRoot.left)\n",
    "                if pRoot.right:\n",
    "                    nodeQue.append(pRoot.right)"
   ]
  },
  {
   "cell_type": "code",
   "execution_count": 25,
   "metadata": {},
   "outputs": [],
   "source": [
    "#根节点为空直接返回\n",
    "#没有子节点则直接返回根节点\n",
    "#有子节点则交换左右节点\n",
    "#左右节点迭代镜像"
   ]
  },
  {
   "cell_type": "code",
   "execution_count": 29,
   "metadata": {},
   "outputs": [],
   "source": [
    "class TreeNode:\n",
    "    def __init__(self,x):\n",
    "        self.val=x\n",
    "        self.left=None\n",
    "        self.right=None\n",
    "        \n",
    "class Solution:\n",
    "    def Mirror(self,root):\n",
    "        if root==None:\n",
    "            return\n",
    "        if root.left==None and root.right==None:\n",
    "            return root\n",
    "        else:\n",
    "            temp=root.left\n",
    "            root.left=root.right\n",
    "            root.right=temp\n",
    "            self.Mirror(root.left)\n",
    "            self.Mirror(root.left)    "
   ]
  },
  {
   "cell_type": "code",
   "execution_count": 33,
   "metadata": {},
   "outputs": [
    {
     "name": "stdout",
     "output_type": "stream",
     "text": [
      "10\n"
     ]
    }
   ],
   "source": [
    "pNode1 = TreeNode(3)\n",
    "pNode2 = TreeNode(6)\n",
    "pNode3 = TreeNode(10)\n",
    "pNode4 = TreeNode(5)\n",
    "pNode5 = TreeNode(7)\n",
    "pNode6 = TreeNode(9)\n",
    "pNode7 = TreeNode(11)\n",
    "\n",
    "pNode1.left = pNode2\n",
    "pNode1.right = pNode3\n",
    "pNode2.left = pNode4\n",
    "pNode2.right = pNode5\n",
    "pNode3.left = pNode6\n",
    "pNode3.right = pNode7\n",
    "\n",
    "S = Solution()\n",
    "S.Mirror(pNode1)\n",
    "print(pNode1.left.val)"
   ]
  },
  {
   "cell_type": "markdown",
   "metadata": {},
   "source": [
    "19.顺时针打印矩阵"
   ]
  },
  {
   "cell_type": "code",
   "execution_count": 70,
   "metadata": {},
   "outputs": [],
   "source": [
    "# -*- coding:utf-8 -*-\n",
    "class Solution:\n",
    "    # matrix类型为二维列表，需要返回列表\n",
    "    def printMatrix(self, matrix):\n",
    "        # write code here\n",
    "        rows = len(matrix)\n",
    "        cols = len(matrix[0])\n",
    "        result = []\n",
    "        if rows == 0 and cols == 0:\n",
    "            return result\n",
    "        left, right, top, buttom = 0, cols - 1, 0, rows - 1\n",
    "        while left <= right and top <= buttom:\n",
    "            #从左往右\n",
    "            for i in range(left, right+1):\n",
    "                result.append(matrix[top][i])\n",
    "            #从上往下\n",
    "            for i in range(top+1, buttom+1):\n",
    "                result.append(matrix[i][right])\n",
    "            #从右往左\n",
    "            if top != buttom:\n",
    "                for i in range(left, right)[::-1]:\n",
    "                    result.append(matrix[buttom][i])\n",
    "            #从下往上\n",
    "            if left != right:\n",
    "                for i in range(top+1, buttom)[::-1]:\n",
    "                    result.append(matrix[i][left])\n",
    "            left += 1\n",
    "            top += 1\n",
    "            right -= 1\n",
    "            buttom -= 1\n",
    "        return result"
   ]
  },
  {
   "cell_type": "code",
   "execution_count": 71,
   "metadata": {},
   "outputs": [
    {
     "data": {
      "text/plain": [
       "[1, 2, 3, 4, 8, 12, 16, 15, 14, 13, 9, 5, 6, 7, 11, 10]"
      ]
     },
     "execution_count": 71,
     "metadata": {},
     "output_type": "execute_result"
    }
   ],
   "source": [
    "matrix = [[1,  2,  3,  4],\n",
    "          [5,  6,  7,  8],\n",
    "          [9, 10, 11, 12],\n",
    "          [13, 14, 15, 16]]\n",
    "S = Solution()\n",
    "S.printMatrix(matrix)"
   ]
  },
  {
   "cell_type": "markdown",
   "metadata": {},
   "source": [
    "20.包含min函数的栈"
   ]
  },
  {
   "cell_type": "code",
   "execution_count": 80,
   "metadata": {},
   "outputs": [],
   "source": [
    "#push：保持两个栈元素个数相等，先将元素推入栈，然后判断辅助栈是否为空，为空则推入辅助栈，\n",
    "#不为空则与辅助栈中元素进行比较，如果元素小于self.min()，此处应该还可以为self.minstack[-1],则将元素推入minstack\n",
    "#pop:若两个栈有一个为空则返回 None，都不为空则两个栈都pop()\n",
    "#top:直接返回列表最后一个元素\n",
    "#min:返回minstack最后一个元素\n",
    "\n",
    "class Solution:\n",
    "    def __init__(self):\n",
    "        self.stack=[]\n",
    "        self.minstack=[]\n",
    "    \n",
    "    def push(self,node):\n",
    "        self.stack.append(node)\n",
    "        if self.minstack==[] or node<self.min():\n",
    "            self.minstack.append(node)\n",
    "        else:\n",
    "            self.minstack.append(self.min())\n",
    "    \n",
    "    def pop(self):\n",
    "        if self.stack==[] or self.minstack==[]:\n",
    "            return None\n",
    "        else:\n",
    "            self.stack.pop()\n",
    "            self.minstack.pop()\n",
    "            \n",
    "    def top(self):\n",
    "        return self.stack[-1]\n",
    "    \n",
    "    def min(self):\n",
    "        return self.minstack[-1]"
   ]
  },
  {
   "cell_type": "code",
   "execution_count": 81,
   "metadata": {},
   "outputs": [
    {
     "name": "stdout",
     "output_type": "stream",
     "text": [
      "1\n",
      "2\n",
      "3\n"
     ]
    }
   ],
   "source": [
    "S = Solution()\n",
    "S.push(3)\n",
    "S.push(4)\n",
    "S.push(2)\n",
    "S.push(1)\n",
    "print(S.min())\n",
    "S.pop()\n",
    "print(S.min())\n",
    "S.pop()\n",
    "print(S.min())"
   ]
  },
  {
   "cell_type": "markdown",
   "metadata": {},
   "source": [
    "21.栈的压入弹出序列"
   ]
  },
  {
   "cell_type": "code",
   "execution_count": 82,
   "metadata": {},
   "outputs": [],
   "source": [
    "#先判断压入压出序列是否有空序列，有则返回False\n",
    "#创建空栈，将入栈序列pushV元素依次弹入空栈stack\n",
    "#判断stack是否为空，若不为空且stack的栈顶元素（即出栈顺序）和出栈序列popV的栈底元素（即出栈顺序）相等\n",
    "#则弹出stack的栈顶元素和popV的栈底元素（判断正确即弹出）\n",
    "#判断stack（辅助栈代表出栈序列）是否为空，为空则正确，否则错误\n",
    "\n",
    "class Solution:\n",
    "    def order(self,pushV,popV):\n",
    "        if pushV==[] or popV==[]:\n",
    "            return False\n",
    "        stack=[]\n",
    "        for i in pushV:\n",
    "            stack.append(i)\n",
    "            while len(stack) and stack[-1]==popV[0]:\n",
    "                stack.pop()\n",
    "                popV.pop(0)\n",
    "        if len(stack)==0:\n",
    "            return True\n",
    "        else:\n",
    "            return False"
   ]
  },
  {
   "cell_type": "code",
   "execution_count": 84,
   "metadata": {},
   "outputs": [
    {
     "name": "stdout",
     "output_type": "stream",
     "text": [
      "False\n"
     ]
    }
   ],
   "source": [
    "pushV = [1, 2, 3, 4, 5]\n",
    "popV = [4, 5, 3, 2, 1]\n",
    "popVF = [4, 5, 2, 1, 3]\n",
    "S = Solution()\n",
    "print(S.order(pushV, popVF))"
   ]
  },
  {
   "cell_type": "markdown",
   "metadata": {},
   "source": [
    "22.从上到下打印二叉树"
   ]
  },
  {
   "cell_type": "code",
   "execution_count": 89,
   "metadata": {},
   "outputs": [],
   "source": [
    "class Solution:\n",
    "    def PrintFromTopToBottom(self, root):\n",
    "        ans=[]\n",
    "        if root==None:\n",
    "            return ans\n",
    "        else:\n",
    "            q=[root]\n",
    "            while q:\n",
    "                node=q.pop(0)\n",
    "                ans.append(node.val)\n",
    "                if node.left:\n",
    "                    q.append(node.left)\n",
    "                if node.right:\n",
    "                    q.append(node.right)\n",
    "            print(ans)"
   ]
  },
  {
   "cell_type": "code",
   "execution_count": 90,
   "metadata": {},
   "outputs": [
    {
     "name": "stdout",
     "output_type": "stream",
     "text": [
      "[8, 6, 10, 5, 7, 9, 11]\n"
     ]
    }
   ],
   "source": [
    "pNode1 = TreeNode(8)\n",
    "pNode2 = TreeNode(6)\n",
    "pNode3 = TreeNode(10)\n",
    "pNode4 = TreeNode(5)\n",
    "pNode5 = TreeNode(7)\n",
    "pNode6 = TreeNode(9)\n",
    "pNode7 = TreeNode(11)\n",
    "\n",
    "pNode1.left = pNode2\n",
    "pNode1.right = pNode3\n",
    "pNode2.left = pNode4\n",
    "pNode2.right = pNode5\n",
    "pNode3.left = pNode6\n",
    "pNode3.right = pNode7\n",
    "\n",
    "s=Solution()\n",
    "s.PrintFromTopToBottom(pNode1)"
   ]
  },
  {
   "cell_type": "markdown",
   "metadata": {},
   "source": [
    "23.二叉搜索树的后序遍历"
   ]
  },
  {
   "cell_type": "code",
   "execution_count": 8,
   "metadata": {},
   "outputs": [],
   "source": [
    "#先判断序列是否存在，不存在则返回错误\n",
    "#接着判断序列长度是否为1，为1则直接返回正确\n",
    "#定义序列长度和根节点，为了求根节点的左右子节点\n",
    "#循环找到左右子树的分界索引,左子树的数值都小于根节点，并对右子树遍历与根节点比较，右子树数值大于根节点\n",
    "#根据索引得到左右子树\n",
    "#left=true,左序列长度大于0，则递归左序列\n",
    "#right=true,右序列长度大于0，则递归右序列\n",
    "#返回left和right\n",
    "\n",
    "class Solution:\n",
    "    def VerifySquenceOfBST(self, sequence):\n",
    "        # write code here\n",
    "        if not len(sequence):\n",
    "            return False\n",
    "        if len(sequence) == 1:\n",
    "            return True\n",
    "        length = len(sequence)\n",
    "        root = sequence[-1]\n",
    "        i = 0\n",
    "        while sequence[i] < root:\n",
    "            i = i + 1\n",
    "        k = i\n",
    "        for j in range(i, length-1):\n",
    "            if sequence[j] < root:\n",
    "                return False\n",
    "        left_s = sequence[:i]\n",
    "        right_s = sequence[k:length-1]\n",
    "        left, right = True, True\n",
    "        if len(left_s) > 0:\n",
    "            left = self.VerifySquenceOfBST(left_s)\n",
    "        if len(right_s) > 0:\n",
    "            right = self.VerifySquenceOfBST(right_s)\n",
    "        return left and right"
   ]
  },
  {
   "cell_type": "code",
   "execution_count": 9,
   "metadata": {},
   "outputs": [
    {
     "name": "stdout",
     "output_type": "stream",
     "text": [
      "True\n",
      "True\n",
      "True\n"
     ]
    }
   ],
   "source": [
    "array = [5, 7, 6, 9, 11, 10, 8]\n",
    "array2 = [4, 6, 7, 5]\n",
    "array3 = [1, 2, 3, 4, 5]\n",
    "S = Solution()\n",
    "print(S.VerifySquenceOfBST(array))\n",
    "print(S.VerifySquenceOfBST(array2))\n",
    "print(S.VerifySquenceOfBST(array3))"
   ]
  },
  {
   "cell_type": "markdown",
   "metadata": {},
   "source": [
    "24.二叉树中和为某一值的路径"
   ]
  },
  {
   "cell_type": "code",
   "execution_count": 24,
   "metadata": {},
   "outputs": [],
   "source": [
    "class TreeNode:\n",
    "    def __init__(self, x):\n",
    "        self.val = x\n",
    "        self.left = None\n",
    "        self.right = None\n",
    "\n",
    "class Solution:\n",
    "    # 返回二维列表，内部每个列表表示找到的路径\n",
    "    def FindPath(self, root, expectNumber):\n",
    "        # write code here\n",
    "        if not root:\n",
    "            return []\n",
    "        if not root.left and not root.right and expectNumber == root.val:\n",
    "            return [[root.val]]\n",
    "        res = []\n",
    "        left = self.FindPath(root.left, expectNumber-root.val)\n",
    "        right = self.FindPath(root.right, expectNumber-root.val)\n",
    "        for i in left+right:\n",
    "            res.append([root.val]+i)\n",
    "        return res"
   ]
  },
  {
   "cell_type": "code",
   "execution_count": 25,
   "metadata": {},
   "outputs": [
    {
     "name": "stdout",
     "output_type": "stream",
     "text": [
      "[[10, 5, 7], [10, 12]]\n"
     ]
    }
   ],
   "source": [
    "pNode1 = TreeNode(10)\n",
    "pNode2 = TreeNode(5)\n",
    "pNode3 = TreeNode(12)\n",
    "pNode4 = TreeNode(4)\n",
    "pNode5 = TreeNode(7)\n",
    "pNode1.left = pNode2\n",
    "pNode1.right = pNode3\n",
    "pNode2.left = pNode4\n",
    "pNode2.right = pNode5\n",
    "S = Solution()\n",
    "print(S.FindPath(pNode1, 22))"
   ]
  },
  {
   "cell_type": "markdown",
   "metadata": {},
   "source": [
    "25.复杂链表的复制"
   ]
  },
  {
   "cell_type": "code",
   "execution_count": 5,
   "metadata": {},
   "outputs": [],
   "source": [
    "class RandomListNode:\n",
    "    def __init__(self,x):\n",
    "        self.label=x\n",
    "        self.next=None\n",
    "        self.random=None\n",
    "        \n",
    "class Solution:\n",
    "    def copy(self,head):\n",
    "        if not head:\n",
    "            return head\n",
    "        copylist=RandomListNode(head.label)\n",
    "        copylist.random=head.random\n",
    "        copylist.next=self.copy(head.next)\n",
    "        return copylist"
   ]
  },
  {
   "cell_type": "code",
   "execution_count": 6,
   "metadata": {},
   "outputs": [
    {
     "name": "stdout",
     "output_type": "stream",
     "text": [
      "5\n"
     ]
    }
   ],
   "source": [
    "node1 = RandomListNode(1)\n",
    "node2 = RandomListNode(3)\n",
    "node3 = RandomListNode(5)\n",
    "node1.next = node2\n",
    "node2.next = node3\n",
    "node1.random = node3\n",
    "\n",
    "S = Solution()\n",
    "clonedNode = S.copy(node1)\n",
    "print(clonedNode.random.label)"
   ]
  },
  {
   "cell_type": "markdown",
   "metadata": {},
   "source": [
    "26.二叉搜索树与双向链表"
   ]
  },
  {
   "cell_type": "markdown",
   "metadata": {},
   "source": [
    "![示例](26.jpg)"
   ]
  },
  {
   "cell_type": "code",
   "execution_count": 1,
   "metadata": {},
   "outputs": [],
   "source": [
    "class TreeNode:\n",
    "    def __init__(self, x):\n",
    "        self.val = x\n",
    "        self.left = None\n",
    "        self.right = None\n",
    "        \n",
    "class Solution:\n",
    "    def Convert(self, root):\n",
    "        if root == None:\n",
    "            return None\n",
    "        if not root.left and not root.right:\n",
    "            return root\n",
    "\n",
    "        # 处理左子树\n",
    "        self.Convert(root.left)\n",
    "        left = root.left\n",
    "\n",
    "        # 连接根与左子树最大结点\n",
    "        if left:\n",
    "            while left.right:\n",
    "                left = left.right\n",
    "            root.left, left.right = left, root\n",
    "\n",
    "        # 处理右子树\n",
    "        self.Convert(root.right)\n",
    "        right = root.right\n",
    "\n",
    "        # 连接根与右子树最小结点\n",
    "        if right:\n",
    "            while right.left:\n",
    "                right = right.left\n",
    "            root.right, right.left = right, root\n",
    "\n",
    "        while root.left:\n",
    "            root = root.left\n",
    "\n",
    "        return root"
   ]
  },
  {
   "cell_type": "code",
   "execution_count": 3,
   "metadata": {},
   "outputs": [
    {
     "name": "stdout",
     "output_type": "stream",
     "text": [
      "5\n"
     ]
    }
   ],
   "source": [
    "pNode1 = TreeNode(8)\n",
    "pNode2 = TreeNode(6)\n",
    "pNode3 = TreeNode(10)\n",
    "pNode4 = TreeNode(5)\n",
    "pNode5 = TreeNode(7)\n",
    "pNode6 = TreeNode(9)\n",
    "pNode7 = TreeNode(11)\n",
    "\n",
    "pNode1.left = pNode2\n",
    "pNode1.right = pNode3\n",
    "pNode2.left = pNode4\n",
    "pNode2.right = pNode5\n",
    "pNode3.left = pNode6\n",
    "pNode3.right = pNode7\n",
    "\n",
    "S = Solution()\n",
    "newList = S.Convert(pNode1)\n",
    "print(newList.val)"
   ]
  },
  {
   "cell_type": "code",
   "execution_count": 4,
   "metadata": {},
   "outputs": [],
   "source": [
    "class TreeNode:\n",
    "    def __init__(self,x):\n",
    "        self.val=x\n",
    "        self.left=None\n",
    "        self.right=None\n",
    "        \n",
    "    def convert(self,root):\n",
    "        if not root:\n",
    "            return None\n",
    "        if not root.left and not root.right:\n",
    "            return root\n",
    "        \n",
    "        self.convert(root.left)\n",
    "        left=root.left\n",
    "        if left:\n",
    "            while left:\n",
    "                left=left.right\n",
    "            root.left=left\n",
    "            left.right=root\n",
    "        \n",
    "        self.convert(root.right)\n",
    "        right=root.right\n",
    "        if right:\n",
    "            while right:\n",
    "                right=right.left\n",
    "            root.right=right\n",
    "            right.left=root\n",
    "            \n",
    "        while root.left:\n",
    "            root=root.left\n",
    "        return root"
   ]
  },
  {
   "cell_type": "code",
   "execution_count": 5,
   "metadata": {},
   "outputs": [
    {
     "name": "stdout",
     "output_type": "stream",
     "text": [
      "5\n"
     ]
    }
   ],
   "source": [
    "pNode1 = TreeNode(8)\n",
    "pNode2 = TreeNode(6)\n",
    "pNode3 = TreeNode(10)\n",
    "pNode4 = TreeNode(5)\n",
    "pNode5 = TreeNode(7)\n",
    "pNode6 = TreeNode(9)\n",
    "pNode7 = TreeNode(11)\n",
    "\n",
    "pNode1.left = pNode2\n",
    "pNode1.right = pNode3\n",
    "pNode2.left = pNode4\n",
    "pNode2.right = pNode5\n",
    "pNode3.left = pNode6\n",
    "pNode3.right = pNode7\n",
    "\n",
    "S = Solution()\n",
    "newList = S.Convert(pNode1)\n",
    "print(newList.val)"
   ]
  },
  {
   "cell_type": "markdown",
   "metadata": {},
   "source": [
    "27.字符串的排列"
   ]
  },
  {
   "cell_type": "code",
   "execution_count": 12,
   "metadata": {},
   "outputs": [],
   "source": [
    "class Solution:\n",
    "    def Permutation(self, ss):\n",
    "        if not len(ss):\n",
    "            return []\n",
    "        if len(ss) == 1:\n",
    "            return list(ss)\n",
    "\n",
    "        charList = list(ss)\n",
    "        charList.sort()\n",
    "        pStr = []\n",
    "        for i in range(len(charList)):\n",
    "            if i > 0 and charList[i] == charList[i-1]:\n",
    "                continue\n",
    "            temp = self.Permutation(''.join(charList[:i])+''.join(charList[i+1:]))\n",
    "            for j in temp:\n",
    "                pStr.append(charList[i]+j)\n",
    "        return pStr"
   ]
  },
  {
   "cell_type": "code",
   "execution_count": 20,
   "metadata": {},
   "outputs": [
    {
     "name": "stdout",
     "output_type": "stream",
     "text": [
      "['abc', 'acb', 'bac', 'bca', 'cab', 'cba']\n"
     ]
    }
   ],
   "source": [
    "ss = 'acb'\n",
    "S = Solution()\n",
    "print(S.Permutation(ss))"
   ]
  },
  {
   "cell_type": "code",
   "execution_count": null,
   "metadata": {},
   "outputs": [],
   "source": [
    "class Solution:\n",
    "    def __init__(self):\n",
    "        self.result = []\n",
    "    def Permutation(self, ss):\n",
    "        # write code here\n",
    "        if len(ss) == 0:\n",
    "            return []\n",
    "        self.PermutationCore(ss, 0)\n",
    "        sorted(self.result)\n",
    "        return self.result\n",
    "    def PermutationCore(self, str_, begin):\n",
    "        if begin == len(str_):\n",
    "            self.result.append(str_)\n",
    "            return\n",
    "        for i in range(begin, len(str_)):\n",
    "            if i != begin and str_[i] == str_[begin]:\n",
    "                continue\n",
    "            str_list = list(str_)\n",
    "            str_list[i], str_list[begin] = str_list[begin], str_list[i]\n",
    "            str_ = ''.join(str_list)\n",
    "            self.PermutationCore(str_, begin+1)"
   ]
  },
  {
   "cell_type": "markdown",
   "metadata": {},
   "source": [
    "28.数组中出现次数超过一半的数字"
   ]
  },
  {
   "cell_type": "code",
   "execution_count": 25,
   "metadata": {},
   "outputs": [],
   "source": [
    "# -*- coding:utf-8 -*-\n",
    "class Solution:\n",
    "    def MoreThanHalfNum_Solution(self, numbers):\n",
    "        # 从第一个开始逐个比较，若相同则加一，不同则减一，当为0时，替换当前结果\n",
    "        result = numbers[0]\n",
    "        times = 1\n",
    "        for i in range(1, len(numbers)):\n",
    "            if times == 0:\n",
    "                result = numbers[i]\n",
    "                times = 1\n",
    "            elif result == numbers[i]:\n",
    "                times += 1\n",
    "            else:\n",
    "                times -= 1\n",
    "        #判断是否大于一半\n",
    "        times = 0\n",
    "        for j in range(len(numbers)):\n",
    "            if numbers[j] == result:\n",
    "                times += 1\n",
    "        if times > (len(numbers)//2):\n",
    "            return result\n",
    "        else:\n",
    "            return None"
   ]
  },
  {
   "cell_type": "code",
   "execution_count": 26,
   "metadata": {},
   "outputs": [
    {
     "name": "stdout",
     "output_type": "stream",
     "text": [
      "2\n",
      "3\n",
      "None\n"
     ]
    }
   ],
   "source": [
    "S = Solution()\n",
    "print(S.MoreThanHalfNum_Solution([1, 2, 3, 2, 2, 2, 5, 4, 2]))\n",
    "print(S.MoreThanHalfNum_Solution([1, 2, 3, 3, 3, 3, 4]))\n",
    "print(S.MoreThanHalfNum_Solution([1, 2]))"
   ]
  },
  {
   "cell_type": "markdown",
   "metadata": {},
   "source": [
    "29.最小k个数"
   ]
  },
  {
   "cell_type": "code",
   "execution_count": 4,
   "metadata": {},
   "outputs": [],
   "source": [
    "class Solution:\n",
    "    def HeadAdjust(self, input_list, parent, length):\n",
    "        temp = input_list[parent]\n",
    "        child = 2 * parent + 1\n",
    "        while child < length:\n",
    "            if child + 1 < length and input_list[child] < input_list[child+1]:\n",
    "                child += 1\n",
    "            if temp >= input_list[child]:\n",
    "                break\n",
    "            input_list[parent] = input_list[child]\n",
    "            parent = child\n",
    "            child = 2 * parent + 1\n",
    "        input_list[parent] = temp\n",
    "\n",
    "    def GetLeastNumbers_Solution(self, tinput, k):\n",
    "        # write code here\n",
    "        res = []\n",
    "        length = len(tinput)\n",
    "        change = True\n",
    "        if length <= 0 or k <= 0 or k > length:\n",
    "            return res\n",
    "        res = tinput[:k]\n",
    "\n",
    "        for i in range(k, length+1):\n",
    "            if change == True:\n",
    "                for j in range(0, k//2+1)[::-1]:\n",
    "                    self.HeadAdjust(res, j, k)\n",
    "                for j in range(1, k)[::-1]:\n",
    "                    res[0], res[j] = res[j], res[0]\n",
    "                    self.HeadAdjust(res, 0, j)\n",
    "                chage = False\n",
    "            if i != length and res[k-1] > tinput[i]:\n",
    "                res[k-1] = tinput[i]\n",
    "                chage = True\n",
    "        return res"
   ]
  },
  {
   "cell_type": "code",
   "execution_count": 5,
   "metadata": {},
   "outputs": [
    {
     "name": "stdout",
     "output_type": "stream",
     "text": [
      "[1, 2, 3, 4]\n"
     ]
    }
   ],
   "source": [
    "tinput = [4,5,1,6,2,7,3,8]\n",
    "s = Solution()\n",
    "print(s.GetLeastNumbers_Solution(tinput, 4))"
   ]
  },
  {
   "cell_type": "markdown",
   "metadata": {},
   "source": [
    "30.连续子数组的最大和"
   ]
  },
  {
   "cell_type": "code",
   "execution_count": 13,
   "metadata": {},
   "outputs": [],
   "source": [
    "#先判断数组长度是否为0\n",
    "#最大值和指针赋值数组第一个值\n",
    "#从第二个数开始，先判断指针值是否大于0，是则指针值加上当前值，否则用当前值替换指针值\n",
    "#接着判断指针值是否大于最大值，是则将指针值赋给最大值，否则继续下一个数循环\n",
    "class Solution:\n",
    "    def FindGreatestSumOfSubArray(self, array):\n",
    "        if len(array)==0:\n",
    "            return None\n",
    "        max=array[0]\n",
    "        cur=array[0]\n",
    "        for i in array[1:]:\n",
    "            if cur>0:\n",
    "                cur+=i\n",
    "            else:\n",
    "                cur=i\n",
    "            if cur>max:\n",
    "                max=cur\n",
    "        return max"
   ]
  },
  {
   "cell_type": "code",
   "execution_count": 14,
   "metadata": {},
   "outputs": [
    {
     "name": "stdout",
     "output_type": "stream",
     "text": [
      "18\n"
     ]
    }
   ],
   "source": [
    "alist = [1, -2, 3, 10, -4, 7, 2, -5]\n",
    "s = Solution()\n",
    "print(s.FindGreatestSumOfSubArray(alist))"
   ]
  },
  {
   "cell_type": "markdown",
   "metadata": {},
   "source": [
    "31.整数中1出现的次数（从1到n整数中1出现的次数）"
   ]
  },
  {
   "cell_type": "code",
   "execution_count": 26,
   "metadata": {},
   "outputs": [],
   "source": [
    "class Solution:\n",
    "    def count1(self,n):\n",
    "        if n<0 or type(n)!=int:\n",
    "            return None\n",
    "        i=1\n",
    "        count=0\n",
    "        while i<=n:\n",
    "            a=n//i\n",
    "            b=n%i\n",
    "            if a%10==0:\n",
    "                count+=a//10*i\n",
    "            elif a%10==1:\n",
    "                count+=a//10*i+b+1\n",
    "            else:\n",
    "                count+=(a//10+1)*i\n",
    "            i*=10\n",
    "        return count\n",
    "                "
   ]
  },
  {
   "cell_type": "code",
   "execution_count": 27,
   "metadata": {},
   "outputs": [
    {
     "name": "stdout",
     "output_type": "stream",
     "text": [
      "2713\n"
     ]
    }
   ],
   "source": [
    "s = Solution()\n",
    "print(s.count1(5521))"
   ]
  },
  {
   "cell_type": "markdown",
   "metadata": {},
   "source": [
    "32.把数组排成最小的数"
   ]
  },
  {
   "cell_type": "code",
   "execution_count": 31,
   "metadata": {},
   "outputs": [],
   "source": [
    "#冒泡排序\n",
    "class Solution:\n",
    "    def PrintMinNumber(self, numbers):\n",
    "        if numbers == None or len(numbers) <= 0:\n",
    "            return ''\n",
    "        strNum = [str(m) for m in numbers]\n",
    "        for i in range(len(numbers)-1):\n",
    "            for j in range(i+1, len(numbers)):\n",
    "                if strNum[i] + strNum[j] > strNum[j] + strNum[i]:\n",
    "                    strNum[i], strNum[j] = strNum[j], strNum[i]\n",
    "        return ''.join(strNum)"
   ]
  },
  {
   "cell_type": "code",
   "execution_count": 32,
   "metadata": {},
   "outputs": [
    {
     "name": "stdout",
     "output_type": "stream",
     "text": [
      "321323\n"
     ]
    }
   ],
   "source": [
    "numbers = [3, 32, 321]\n",
    "s = Solution()\n",
    "print(s.PrintMinNumber(numbers))"
   ]
  },
  {
   "cell_type": "markdown",
   "metadata": {},
   "source": [
    "33.从小到大第n个丑数"
   ]
  },
  {
   "cell_type": "code",
   "execution_count": 5,
   "metadata": {},
   "outputs": [],
   "source": [
    "class Solution:\n",
    "    def GetUglyNumber_Solution(self, index):\n",
    "        if index == None and len(index) <= 0:\n",
    "            return 0\n",
    "\n",
    "        uglyNumbers = [1]*index\n",
    "        nextIndex = 1\n",
    "\n",
    "        index2 = 0\n",
    "        index3 = 0\n",
    "        index5 = 0\n",
    "\n",
    "        while nextIndex < index:\n",
    "            \n",
    "            uglyNumbers[nextIndex] = min(uglyNumbers[index2]*2, uglyNumbers[index3]*3, uglyNumbers[index5]*5)\n",
    "\n",
    "            while uglyNumbers[index2]*2 <= uglyNumbers[nextIndex]:\n",
    "                index2 += 1\n",
    "            while uglyNumbers[index3]*3 <= uglyNumbers[nextIndex]:\n",
    "                index3 += 1\n",
    "            while uglyNumbers[index5]*5 <= uglyNumbers[nextIndex]:\n",
    "                index5 += 1\n",
    "            nextIndex += 1\n",
    "\n",
    "        return uglyNumbers[-1]"
   ]
  },
  {
   "cell_type": "code",
   "execution_count": 6,
   "metadata": {},
   "outputs": [
    {
     "name": "stdout",
     "output_type": "stream",
     "text": [
      "15\n"
     ]
    }
   ],
   "source": [
    "s = Solution()\n",
    "print(s.GetUglyNumber_Solution(11))"
   ]
  },
  {
   "cell_type": "markdown",
   "metadata": {},
   "source": [
    "34.第一个只出现一次的字符"
   ]
  },
  {
   "cell_type": "code",
   "execution_count": 20,
   "metadata": {},
   "outputs": [
    {
     "name": "stdout",
     "output_type": "stream",
     "text": [
      "e\n"
     ]
    }
   ],
   "source": [
    "#建一个Hash表，字符串中第i个字符不在列表里则列表里对应的第i个字符值为1，若在则加1\n",
    "#建完后再遍历一遍字符串，找到值为1的字符并返回该字符，否则返回-1\n",
    "class Solution:\n",
    "    def FirstNotRepeatingChar(self, s):\n",
    "        # write code here\n",
    "        length = len(s)\n",
    "        if length == 0:\n",
    "            return -1\n",
    "        item = {}\n",
    "        lists=list(s)\n",
    "        for i in range(length):\n",
    "            if s[i] not in item.keys():\n",
    "                item[s[i]] = 1\n",
    "            else:\n",
    "                item[s[i]] += 1\n",
    "        for i in range(length):\n",
    "            if item[s[i]] == 1:\n",
    "                return lists[i]\n",
    "        return -1\n",
    " \n",
    "s = Solution()\n",
    "print(s.FirstNotRepeatingChar('ababccddeff'))"
   ]
  },
  {
   "cell_type": "markdown",
   "metadata": {},
   "source": [
    "35.数组中的逆序对"
   ]
  },
  {
   "cell_type": "code",
   "execution_count": 24,
   "metadata": {},
   "outputs": [],
   "source": [
    "class Solution:\n",
    "    def InversePairs(self, data):\n",
    "        # write code here\n",
    "        if not data:\n",
    "            return 0\n",
    "        temp = [i for i in data]\n",
    "        return self.mergeSort(temp, data, 0, len(data)-1) % 1000000007\n",
    "       \n",
    "    def mergeSort(self, temp, data, low, high):\n",
    "        if low >= high:\n",
    "            temp[low] = data[low]\n",
    "            return 0\n",
    "        mid = (low + high) // 2\n",
    "        left = self.mergeSort(data, temp, low, mid)\n",
    "        right = self.mergeSort(data, temp, mid+1, high)\n",
    "           \n",
    "        count = 0\n",
    "        i = low\n",
    "        j = mid+1\n",
    "        index = low\n",
    "        while i <= mid and j <= high:\n",
    "            if data[i] <= data[j]:\n",
    "                temp[index] = data[i]\n",
    "                i += 1\n",
    "            else:\n",
    "                temp[index] = data[j]\n",
    "                count += mid-i+1\n",
    "                j += 1\n",
    "            index += 1\n",
    "        while i <= mid:\n",
    "            temp[index] = data[i]\n",
    "            i += 1\n",
    "            index += 1\n",
    "        while j <= high:\n",
    "            temp[index] = data[j]\n",
    "            j += 1\n",
    "            index += 1\n",
    "        return count + left + right"
   ]
  },
  {
   "cell_type": "code",
   "execution_count": 27,
   "metadata": {},
   "outputs": [
    {
     "name": "stdout",
     "output_type": "stream",
     "text": [
      "2\n"
     ]
    }
   ],
   "source": [
    "s=Solution()\n",
    "print(s.InversePairs([364,637,341]))"
   ]
  },
  {
   "cell_type": "markdown",
   "metadata": {},
   "source": [
    "36.两个链表的第一个公共节点"
   ]
  },
  {
   "cell_type": "code",
   "execution_count": 9,
   "metadata": {},
   "outputs": [],
   "source": [
    "#比较两个链表长度，根据长度定义长短链表，m>=n或m<n\n",
    "#长链表移动m-n项\n",
    "#将长度相同的长短链表进行遍历，条件为都不为空且不相等\n",
    "#相同链表节点则为长链表停止遍历的节点\n",
    "class Nodelist:\n",
    "    def __init__(self,x):\n",
    "        self.val=x\n",
    "        self.next=None\n",
    "    \n",
    "class Solution:\n",
    "    def lenlist(self,head):\n",
    "        length=0\n",
    "        while head!=None:\n",
    "            head=head.next\n",
    "            length+=1\n",
    "        return length\n",
    "    \n",
    "    def common(self,head1,head2):\n",
    "        length1=self.lenlist(head1)\n",
    "        length2=self.lenlist(head2)\n",
    "        if length1>=length2:\n",
    "            long=head1\n",
    "            short=head2\n",
    "        else:\n",
    "            long=head2\n",
    "            short=head1\n",
    "        for i in range(abs(length1-length2)):\n",
    "            long=long.next\n",
    "        while long!=None and short!=None and long.val!=short.val:\n",
    "            long=long.next\n",
    "            short=short.next\n",
    "        return long"
   ]
  },
  {
   "cell_type": "code",
   "execution_count": 10,
   "metadata": {},
   "outputs": [
    {
     "name": "stdout",
     "output_type": "stream",
     "text": [
      "4\n"
     ]
    }
   ],
   "source": [
    "node1=Nodelist(1)\n",
    "node2=Nodelist(3)\n",
    "node3=Nodelist(4)\n",
    "node4=Nodelist(5)\n",
    "node1.next=node2\n",
    "node2.next=node3\n",
    "node3.next=node4\n",
    "\n",
    "node5=Nodelist(2)\n",
    "node6=Nodelist(4)\n",
    "node5.next=node3\n",
    "node6.next=node4\n",
    "\n",
    "s=Solution()\n",
    "a=s.common(node1,node5)\n",
    "print(a.val)"
   ]
  },
  {
   "cell_type": "markdown",
   "metadata": {},
   "source": [
    "37.数字在排序数组中出现的次数"
   ]
  },
  {
   "cell_type": "code",
   "execution_count": 67,
   "metadata": {},
   "outputs": [],
   "source": [
    "#二分差找，长度小于1直接返回0，取中点\n",
    "#如果数组中点数值与k相等，则分别定义开始结束索引，分左右进行遍历\n",
    "#如果左边第一个与k相等则开始索引加1，直到不相等，右边同理\n",
    "#k的个数即为开始索引与结束索引之差加1\n",
    "#如果中点数大于k，则在左边继续递归，反之亦然\n",
    "class Solution:\n",
    "    def knum(self,data,k):\n",
    "        if len(data)<1:\n",
    "            return 0\n",
    "        mid=len(data)//2\n",
    "        if data[mid]==k:\n",
    "            start,end=mid,mid\n",
    "            for i in range(mid-1,-1,-1):\n",
    "                if data[i]==k:\n",
    "                    start-=1\n",
    "            for j in range(mid+1,len(data)):\n",
    "                if data[j]==k:\n",
    "                    end+=1\n",
    "            return end-start+1\n",
    "        elif data[mid]>k:\n",
    "            return self.knum(data[:mid-1],k)\n",
    "        else:\n",
    "            return self.knum(data[mid+1:],k)"
   ]
  },
  {
   "cell_type": "code",
   "execution_count": 68,
   "metadata": {},
   "outputs": [
    {
     "data": {
      "text/plain": [
       "4"
      ]
     },
     "execution_count": 68,
     "metadata": {},
     "output_type": "execute_result"
    }
   ],
   "source": [
    "s=Solution()\n",
    "s.knum([1,2,3,3,3,3,4,6],3)"
   ]
  },
  {
   "cell_type": "markdown",
   "metadata": {},
   "source": [
    "38.二叉树的深度"
   ]
  },
  {
   "cell_type": "code",
   "execution_count": 13,
   "metadata": {},
   "outputs": [
    {
     "name": "stdout",
     "output_type": "stream",
     "text": [
      "ans= 4\n"
     ]
    }
   ],
   "source": [
    "class TreeNode:\n",
    "    def __init__(self, x):\n",
    "        self.val = x\n",
    "        self.left = None\n",
    "        self.right = None\n",
    " \n",
    "class Solution:\n",
    "    def TreeDepth(self, root):\n",
    "        # write code here\n",
    "        if root is None:\n",
    "            return 0\n",
    "        left=self.TreeDepth(root.left)\n",
    "        right=self.TreeDepth(root.right)\n",
    "        return max(left,right)+1\n",
    " \n",
    "if __name__=='__main__':\n",
    "    A1 = TreeNode(1)\n",
    "    A2 = TreeNode(2)\n",
    "    A3 = TreeNode(3)\n",
    "    A4 = TreeNode(4)\n",
    "    A5 = TreeNode(5)\n",
    "    A6 = TreeNode(6)\n",
    " \n",
    "    A1.left=A2\n",
    "    A1.right=A3\n",
    "    A2.left=A4\n",
    "    A2.right=A5\n",
    "    A4.left=A6\n",
    " \n",
    "    solution=Solution()\n",
    "    ans=solution.TreeDepth(A1)\n",
    "    print('ans=',ans)"
   ]
  },
  {
   "cell_type": "markdown",
   "metadata": {},
   "source": [
    "39.判断是否是平衡二叉树"
   ]
  },
  {
   "cell_type": "code",
   "execution_count": 14,
   "metadata": {},
   "outputs": [
    {
     "name": "stdout",
     "output_type": "stream",
     "text": [
      "ans= False\n"
     ]
    }
   ],
   "source": [
    "class TreeNode:\n",
    "    def __init__(self, x):\n",
    "        self.val = x\n",
    "        self.left = None\n",
    "        self.right = None\n",
    "\n",
    "class Solution:\n",
    "    def TreeDepth(self, root):\n",
    "        # write code here\n",
    "        if root is None:\n",
    "            return 0\n",
    "        left = self.TreeDepth(root.left)\n",
    "        right = self.TreeDepth(root.right)\n",
    "        \n",
    "        if abs(left-right)>1:\n",
    "            return False\n",
    "        return max(left,right)+1\n",
    "\n",
    "if __name__=='__main__':\n",
    "    A1 = TreeNode(1)\n",
    "    A2 = TreeNode(2)\n",
    "    A3 = TreeNode(3)\n",
    "    A4 = TreeNode(4)\n",
    "    A5 = TreeNode(5)\n",
    "    A6 = TreeNode(6)\n",
    "\n",
    "    A1.left=A2\n",
    "    A1.right=A3\n",
    "    A2.left=A4\n",
    "    A2.right=A5\n",
    "    A4.left=A6\n",
    "\n",
    "    solution=Solution()\n",
    "    ans=solution.TreeDepth(A1)\n",
    "    print('ans=',ans)"
   ]
  },
  {
   "cell_type": "markdown",
   "metadata": {},
   "source": [
    "40.数组中只出现一次的数字"
   ]
  },
  {
   "cell_type": "code",
   "execution_count": 2,
   "metadata": {},
   "outputs": [],
   "source": [
    "# -*- coding:utf-8 -*-\n",
    "class Solution:\n",
    "    # 返回[a,b] 其中ab是出现一次的两个数字\n",
    "    def FindNumsAppearOnce(self, array):\n",
    "        # write code here\n",
    "        if len(array) <= 0:\n",
    "            return []\n",
    "        resultExclusiveOR = 0\n",
    "        length = len(array)\n",
    "        for i in array:\n",
    "            resultExclusiveOR ^= i\n",
    "        firstBitIs1 = self.FindFisrtBitIs1(resultExclusiveOR)\n",
    "        num1, num2 = 0, 0\n",
    "        for i in array:\n",
    "            if self.BitIs1(i, firstBitIs1):\n",
    "                num1 ^= i\n",
    "            else:\n",
    "                num2 ^= i\n",
    "        return num1, num2\n",
    "        \n",
    "    def FindFisrtBitIs1(self, num):\n",
    "        indexBit = 0\n",
    "        while num & 1 == 0 and indexBit <= 32:\n",
    "            indexBit += 1\n",
    "            num = num >> 1\n",
    "        return indexBit\n",
    "    \n",
    "    def BitIs1(self, num, indexBit):\n",
    "        num = num >> indexBit\n",
    "        return num & 1"
   ]
  },
  {
   "cell_type": "code",
   "execution_count": 4,
   "metadata": {},
   "outputs": [
    {
     "data": {
      "text/plain": [
       "(1, 4)"
      ]
     },
     "execution_count": 4,
     "metadata": {},
     "output_type": "execute_result"
    }
   ],
   "source": [
    "s=Solution()\n",
    "s.FindNumsAppearOnce([1,2,3,2,3,4])"
   ]
  },
  {
   "cell_type": "markdown",
   "metadata": {},
   "source": [
    "41.和为S的连续正数序列"
   ]
  },
  {
   "cell_type": "code",
   "execution_count": 12,
   "metadata": {},
   "outputs": [],
   "source": [
    "#定义一高一低两个指针1和2，定义结果集合\n",
    "#当低小于高时，开始循环比较当前和与目标和\n",
    "#若两个相等，则新建数组加入从低到高的值作为一个序列，同时将低加1\n",
    "#若当前和小于目标和，则高加1，大于则低加一，最后返回结果\n",
    "class Solution:\n",
    "    def find(self,n):\n",
    "        result=[]\n",
    "        l,h=1,2\n",
    "        while l<h:\n",
    "            sum=(l+h)*(h-l+1)/2\n",
    "            if sum==n:\n",
    "                tmp=[]\n",
    "                for i in range(l,h+1):\n",
    "                    tmp.append(i)\n",
    "                result.append(tmp)\n",
    "                l+=1\n",
    "            elif sum<n:\n",
    "                h+=1\n",
    "            else:\n",
    "                l+=1\n",
    "        return result"
   ]
  },
  {
   "cell_type": "code",
   "execution_count": 14,
   "metadata": {},
   "outputs": [
    {
     "name": "stdout",
     "output_type": "stream",
     "text": [
      "[[9, 10, 11, 12, 13, 14, 15, 16], [18, 19, 20, 21, 22]]\n"
     ]
    }
   ],
   "source": [
    "s=Solution()\n",
    "print(s.find(100))"
   ]
  },
  {
   "cell_type": "markdown",
   "metadata": {},
   "source": [
    "42.和为S的两个数字"
   ]
  },
  {
   "cell_type": "code",
   "execution_count": 18,
   "metadata": {},
   "outputs": [],
   "source": [
    "#数组长度小于等于1则返回空数组\n",
    "#定义左右指针，左右同时遍历\n",
    "#如果左右和为目标值则返回左右对应元素\n",
    "#小于则左指针加1，大于则右指针减1\n",
    "#否则返回空数组\n",
    "class Solution:\n",
    "    def find(self,array,n):\n",
    "        if len(array)<=1:\n",
    "            return []\n",
    "        left,right=0,len(array)-1\n",
    "        while left<right:\n",
    "            if array[left]+array[right]==n:\n",
    "                return array[left],array[right]\n",
    "            elif array[left]+array[right]<n:\n",
    "                left+=1\n",
    "            else:\n",
    "                right-=1\n",
    "        return []"
   ]
  },
  {
   "cell_type": "code",
   "execution_count": 19,
   "metadata": {},
   "outputs": [
    {
     "data": {
      "text/plain": [
       "(3, 5)"
      ]
     },
     "execution_count": 19,
     "metadata": {},
     "output_type": "execute_result"
    }
   ],
   "source": [
    "s=Solution()\n",
    "s.find([1,3,4,5,6],8)"
   ]
  },
  {
   "cell_type": "markdown",
   "metadata": {},
   "source": [
    "43.左旋转字符串"
   ]
  },
  {
   "cell_type": "code",
   "execution_count": 1,
   "metadata": {},
   "outputs": [],
   "source": [
    "class Solution:\n",
    "    def LeftRotateString(self, s, n):\n",
    "        if not s: return s\n",
    "        s = list(s)\n",
    "        self.reverse(s, 0, n - 1)\n",
    "        self.reverse(s, n, len(s) - 1)\n",
    "        self.reverse(s, 0, len(s) - 1)\n",
    "        return ''.join(s)\n",
    "\n",
    "    def reverse(self, s, start, end):\n",
    "        while start < end:\n",
    "            s[start], s[end] = s[end], s[start]\n",
    "            start += 1\n",
    "            end -= 1"
   ]
  },
  {
   "cell_type": "code",
   "execution_count": 2,
   "metadata": {},
   "outputs": [
    {
     "data": {
      "text/plain": [
       "'XYZdefabc'"
      ]
     },
     "execution_count": 2,
     "metadata": {},
     "output_type": "execute_result"
    }
   ],
   "source": [
    "s=Solution()\n",
    "s.LeftRotateString('abcXYZdef',3)"
   ]
  },
  {
   "cell_type": "markdown",
   "metadata": {},
   "source": [
    "44.翻转单词顺序序列"
   ]
  },
  {
   "cell_type": "code",
   "execution_count": 4,
   "metadata": {},
   "outputs": [],
   "source": [
    "#先整体反转，再遇到每个单词反转\n",
    "class Solution:\n",
    "    def ReverseSentence(self, s):\n",
    "        if not s: return s\n",
    "        s = list(s)\n",
    "        self.reverse(s, 0, len(s) - 1)\n",
    "        start, end = 0, 0\n",
    "        while start < len(s):\n",
    "            if s[start] == ' ':\n",
    "                start += 1\n",
    "                end += 1\n",
    "            elif end == len(s) or s[end] == ' ':\n",
    "                self.reverse(s, start, end - 1)\n",
    "                end += 1\n",
    "                start = end\n",
    "            else:\n",
    "                end += 1\n",
    "        return ''.join(s)\n",
    "\n",
    "    def reverse(self, s, start, end):\n",
    "        while start < end:\n",
    "            s[start], s[end] = s[end], s[start]\n",
    "            start += 1\n",
    "            end -= 1"
   ]
  },
  {
   "cell_type": "code",
   "execution_count": 6,
   "metadata": {},
   "outputs": [
    {
     "data": {
      "text/plain": [
       "'hmm love zpj'"
      ]
     },
     "execution_count": 6,
     "metadata": {},
     "output_type": "execute_result"
    }
   ],
   "source": [
    "s=Solution()\n",
    "s.ReverseSentence('zpj love hmm')"
   ]
  },
  {
   "cell_type": "markdown",
   "metadata": {},
   "source": [
    "45.扑克牌顺子"
   ]
  },
  {
   "cell_type": "code",
   "execution_count": 8,
   "metadata": {},
   "outputs": [],
   "source": [
    "class Solution:\n",
    "    def IsContinuous(self, numbers):\n",
    "        min, max, flag = 14, -1, 0\n",
    "        if len(numbers) != 5: return False\n",
    "        for i in range(len(numbers) - 1):\n",
    "            if numbers[i] == 0:continue\n",
    "            if numbers[i] in numbers[:i]+numbers[i+1:]: return False\n",
    "\n",
    "            if numbers[i] > max: max = numbers[i]\n",
    "            if numbers[i] < min: min = numbers[i]\n",
    "            if max - min >= 5: return False\n",
    "        return True"
   ]
  },
  {
   "cell_type": "code",
   "execution_count": 11,
   "metadata": {},
   "outputs": [
    {
     "data": {
      "text/plain": [
       "False"
      ]
     },
     "execution_count": 11,
     "metadata": {},
     "output_type": "execute_result"
    }
   ],
   "source": [
    "s=Solution()\n",
    "s.IsContinuous([1,0,6,0,5])"
   ]
  },
  {
   "cell_type": "markdown",
   "metadata": {},
   "source": [
    "46.约瑟夫环"
   ]
  },
  {
   "cell_type": "code",
   "execution_count": 1,
   "metadata": {},
   "outputs": [],
   "source": [
    "class Solution:\n",
    "    def LastRemaining_Solution(self, n, m):\n",
    "        # write code here\n",
    "        if n < 1 or m < 1:\n",
    "            return -1\n",
    "        last = 0\n",
    "        for i in range(2,n+1):\n",
    "            last = (last + m) % i\n",
    "        return last"
   ]
  },
  {
   "cell_type": "code",
   "execution_count": 2,
   "metadata": {},
   "outputs": [
    {
     "data": {
      "text/plain": [
       "96"
      ]
     },
     "execution_count": 2,
     "metadata": {},
     "output_type": "execute_result"
    }
   ],
   "source": [
    "s=Solution()\n",
    "s.LastRemaining_Solution(100,8)"
   ]
  },
  {
   "cell_type": "markdown",
   "metadata": {},
   "source": [
    "47.求1+2+3+…+n"
   ]
  },
  {
   "cell_type": "code",
   "execution_count": 3,
   "metadata": {},
   "outputs": [],
   "source": [
    "class Solution:\n",
    "    def Sum_Solution(self, n):\n",
    "        # write code here\n",
    "        ans = n\n",
    "        if ans:\n",
    "            ans += self.Sum_Solution(n-1)\n",
    "        return ans"
   ]
  },
  {
   "cell_type": "code",
   "execution_count": 5,
   "metadata": {},
   "outputs": [
    {
     "data": {
      "text/plain": [
       "0"
      ]
     },
     "execution_count": 5,
     "metadata": {},
     "output_type": "execute_result"
    }
   ],
   "source": [
    "s=Solution()\n",
    "s.Sum_Solution(0)"
   ]
  },
  {
   "cell_type": "markdown",
   "metadata": {},
   "source": [
    "48.两个整数相加不能用四则运算"
   ]
  },
  {
   "cell_type": "code",
   "execution_count": 7,
   "metadata": {},
   "outputs": [],
   "source": [
    "class Solution:\n",
    "    def Add(self, num1, num2):\n",
    "        # write code here\n",
    "        MAX = 0x7fffffff\n",
    "        mask = 0xffffffff\n",
    "        while num2 != 0:\n",
    "            num1, num2 = (num1 ^ num2), ((num1 & num2) << 1)\n",
    "            num1 = num1 & mask\n",
    "            num2 = num2 & mask\n",
    "        return num1 if num1 <= MAX else ~(num1 ^ mask)"
   ]
  },
  {
   "cell_type": "code",
   "execution_count": 9,
   "metadata": {},
   "outputs": [
    {
     "data": {
      "text/plain": [
       "-5"
      ]
     },
     "execution_count": 9,
     "metadata": {},
     "output_type": "execute_result"
    }
   ],
   "source": [
    "s=Solution()\n",
    "s.Add(-3,-2)"
   ]
  },
  {
   "cell_type": "markdown",
   "metadata": {},
   "source": [
    "49.把字符串转换成整数"
   ]
  },
  {
   "cell_type": "code",
   "execution_count": 43,
   "metadata": {},
   "outputs": [],
   "source": [
    "#首先判断是否为空，然后创建空列表和0-9字典\n",
    "#遍历输入的字符串，若与字典中keys下的值对应，则添加到列表中\n",
    "#若有+或-则跳过继续循环，否则返回非法输入\n",
    "#计算结果，由于存在列表中还不是数，因此需要转换成数：ans=ans*10+i\n",
    "#最后需要考虑正负，若第一个符号为-则变成负数\n",
    "class Solution:\n",
    "    def stringtoint(self,s):\n",
    "        if s==None or len(s)<1:\n",
    "            return None\n",
    "        temp=[]\n",
    "        dict={'0':0,'1':1,'2':2,'3':3,'4':4,'5':5,'6':6,'7':7,'8':8,'9':9}\n",
    "        for i in s:\n",
    "            if i in dict.keys():\n",
    "                temp.append(dict[i])\n",
    "            elif i=='+' or i=='-':\n",
    "                continue\n",
    "            else:\n",
    "                return '非法输入'\n",
    "        ans=0\n",
    "        for j in temp:\n",
    "            ans=ans*10+j\n",
    "        if s[0]=='-':\n",
    "            return 0-ans\n",
    "        return ans"
   ]
  },
  {
   "cell_type": "code",
   "execution_count": 44,
   "metadata": {},
   "outputs": [
    {
     "name": "stdout",
     "output_type": "stream",
     "text": [
      "-9\n"
     ]
    }
   ],
   "source": [
    "s=Solution()\n",
    "print(s.stringtoint('-009'))"
   ]
  },
  {
   "cell_type": "markdown",
   "metadata": {},
   "source": [
    "50.找出重复数字"
   ]
  },
  {
   "cell_type": "code",
   "execution_count": 1,
   "metadata": {},
   "outputs": [
    {
     "name": "stdout",
     "output_type": "stream",
     "text": [
      "[2, 3]\n"
     ]
    }
   ],
   "source": [
    "#因为数字在0~n-1的范围内，那么如果数字没有重复，那么当数组排序之后数字i将出现在下标为i的位置，但是有重复的话，\n",
    "#在某个位置j出现的数字将不是j。我们重排这个数组。从头到尾依次扫描这个数组中的每个数字，如果下标i不是出现数字i，\n",
    "#那么就把数字i和i处的数字进行交换使数字i出现在应该出现的位置，如果新交换的数字还不是他应该出现的位置，\n",
    "#继续交换，直至该处的数字m等于x下标m，如果在交换的过程中，第i处的位置数字等于第m处的数字，那么我们就找到了第一个重复的数字，\n",
    "#记录这个数字，在从下一个位置继续扫描。\n",
    "class Solution:\n",
    "    # 输出所有重复的数字\n",
    "    def duplicate2(self, numbers):\n",
    "        if numbers == None or len(numbers) <= 0:\n",
    "            return False\n",
    "        for i in numbers:\n",
    "            if i < 0 or i > len(numbers) - 1:\n",
    "                return False\n",
    "        repeatedNums = []\n",
    "        for i in range(len(numbers)):\n",
    "            while numbers[i] != i:\n",
    "                if numbers[i] == numbers[numbers[i]]:\n",
    "                    repeatedNums.append(numbers[i])\n",
    "                    break\n",
    "                else:\n",
    "                    index = numbers[i]\n",
    "                    numbers[i], numbers[index] = numbers[index], numbers[i]\n",
    "        return repeatedNums\n",
    "\n",
    "test = [2, 3, 1, 0, 2, 5, 3]\n",
    "s = Solution()\n",
    "print(s.duplicate2(test))"
   ]
  },
  {
   "cell_type": "markdown",
   "metadata": {},
   "source": [
    "51.构建乘积数组"
   ]
  },
  {
   "cell_type": "code",
   "execution_count": 7,
   "metadata": {},
   "outputs": [
    {
     "name": "stdout",
     "output_type": "stream",
     "text": [
      "[24, 12, 8, 6]\n"
     ]
    }
   ],
   "source": [
    "class Solution:\n",
    "    def multiply(self, A):\n",
    "        if A == None or len(A) <= 0:\n",
    "            return\n",
    "        length = len(A)\n",
    "        B= [1] * length\n",
    "        for i in range(1, length):\n",
    "           B[i] = B[i-1] * A[i-1]\n",
    "        temp = 1\n",
    "        for i in range(length-2, -1, -1):\n",
    "            temp *= A[i+1]\n",
    "            B[i] *= temp\n",
    "        return B\n",
    "\n",
    "test = [1, 2, 3, 4]\n",
    "s = Solution()\n",
    "print(s.multiply(test))"
   ]
  },
  {
   "cell_type": "markdown",
   "metadata": {},
   "source": [
    "52.正则表达式匹配//不会"
   ]
  },
  {
   "cell_type": "code",
   "execution_count": 11,
   "metadata": {},
   "outputs": [
    {
     "name": "stdout",
     "output_type": "stream",
     "text": [
      "True\n"
     ]
    }
   ],
   "source": [
    "class Solution:\n",
    "    # s, pattern都是字符串\n",
    "    def match(self, s, pattern):\n",
    "        # write code here\n",
    "        if len(s) == 0 and len(pattern) == 0:\n",
    "            return True\n",
    "        if len(s) > 0 and len(pattern) == 0:\n",
    "            return False\n",
    "        # 如果模式第二个字符是*\n",
    "        if len(pattern) > 1 and pattern[1] == '*':\n",
    "            if len(s) > 0 and (s[0] == pattern[0] or pattern[0] == '.'):\n",
    "                # 如果第一个字符匹配，1、模式后移两位；2、字符串移1位\n",
    "                return self.match(s, pattern[2:]) or self.match(s[1:], pattern)\n",
    "            else:\n",
    "                # 如果第一个字符不匹配，模式往后移2位，相当于忽略x*\n",
    "                return self.match(s, pattern[2:])\n",
    "        # 如果模式第二个字符不是*\n",
    "        if len(s) > 0 and (s[0] == pattern[0] or pattern[0] == '.'):\n",
    "            return self.match(s[1:], pattern[1:])\n",
    "        else:\n",
    "            return False\n",
    "\n",
    "s = Solution()\n",
    "print(s.match('aaa', 'a*a*a'))"
   ]
  },
  {
   "cell_type": "markdown",
   "metadata": {},
   "source": [
    "53.表示数值的字符串"
   ]
  },
  {
   "cell_type": "code",
   "execution_count": 18,
   "metadata": {},
   "outputs": [
    {
     "data": {
      "text/plain": [
       "True"
      ]
     },
     "execution_count": 18,
     "metadata": {},
     "output_type": "execute_result"
    }
   ],
   "source": [
    "class Solution:\n",
    "    # s字符串\n",
    "    def isNumeric(self, s):    # 主要是dot和E不能随便出现\n",
    "        # write code here\n",
    "        allowDot = True\n",
    "        allowE = True\n",
    "        for i in range(len(s)):\n",
    "            if s[i] in \"+-\" and (i == 0 or s[i-1] in \"Ee\") and i != (len(s)-1):\n",
    "                continue\n",
    "            elif allowDot and s[i] == \".\":\n",
    "                allowDot = False     # 若当前字符为“.”，那么后面就不能出现“.”了，修改标志为False，“eE”同理。\n",
    "                if i == 0 or i == (len(s) -1) or allowE == False:\n",
    "                    return False\n",
    "            elif allowE  and s[i] in \"Ee\":\n",
    "                allowE = False\n",
    "                if i == len(s)-1:\n",
    "                    return False\n",
    "            elif s[i] not in \"0123456789\":    # 最后验证是否出现了其他字符\n",
    "                return False\n",
    "        return True\n",
    "\n",
    "s=Solution()\n",
    "s.isNumeric('1e12')"
   ]
  },
  {
   "cell_type": "markdown",
   "metadata": {},
   "source": [
    "54.字符流中第一个不重复的字符"
   ]
  },
  {
   "cell_type": "code",
   "execution_count": 2,
   "metadata": {},
   "outputs": [],
   "source": [
    "class Solution():\n",
    "    def __init__(self):\n",
    "        self.s=''\n",
    "        self.count={}\n",
    "    #char代表单个字符\n",
    "    def insert(self,char):\n",
    "        self.s+=char\n",
    "        if char not in self.count:\n",
    "            self.count[char]=1\n",
    "        else:\n",
    "            self.count[char]+=1\n",
    "    def findfirst(self):\n",
    "        length=len(self.s)\n",
    "        for i in range(length):\n",
    "            if self.count[self.s[i]]==1:\n",
    "                return self.s[i]\n",
    "        return '#'"
   ]
  },
  {
   "cell_type": "code",
   "execution_count": 3,
   "metadata": {},
   "outputs": [
    {
     "data": {
      "text/plain": [
       "'c'"
      ]
     },
     "execution_count": 3,
     "metadata": {},
     "output_type": "execute_result"
    }
   ],
   "source": [
    "s=Solution()\n",
    "s.insert('a')\n",
    "s.insert('b')\n",
    "s.insert('a')\n",
    "s.insert('b')\n",
    "s.insert('c')\n",
    "s.findfirst()"
   ]
  },
  {
   "cell_type": "markdown",
   "metadata": {},
   "source": [
    "55.判断链表是否有环，环的长度和入口"
   ]
  },
  {
   "cell_type": "code",
   "execution_count": 8,
   "metadata": {},
   "outputs": [],
   "source": [
    "class Nodelist:\n",
    "    def __init__(self,x):\n",
    "        self.val=x\n",
    "        self.next=None\n",
    "\n",
    "class Solution:\n",
    "    #以下判断链表是否有环\n",
    "    def meetnode(self,head):\n",
    "        #考虑链表是否存在以及是否只有一个节点\n",
    "        if head==None or head.next==None:\n",
    "            return None\n",
    "        #移动快慢指针，快的移两步慢的移一步\n",
    "        slow=head.next\n",
    "        fast=slow.next\n",
    "        while fast:\n",
    "            #如果快慢指针相遇则有环并返回相遇节点，此节点一定在环中\n",
    "            if fast==slow:\n",
    "                return fast\n",
    "            slow=slow.next\n",
    "            fast=fast.next\n",
    "            if fast:\n",
    "                fast=fast.next\n",
    "        return None\n",
    "    \n",
    "    def entr(self,head):\n",
    "        mnode=self.meetnode(head)\n",
    "        if not mnode:\n",
    "            return None\n",
    "        #先找到环的长度\n",
    "        lengh=1\n",
    "        flagnode=mnode\n",
    "        while flagnode.next != mnode:\n",
    "            lengh+=1\n",
    "            flagnode=flagnode.next\n",
    "        #找到链表环的入口,fast先移动环的长度步数\n",
    "        fast=head\n",
    "        slow=head\n",
    "        for i in range(lengh):\n",
    "            fast=fast.next\n",
    "        #同时移动fast和slow直到相遇即为入口节点\n",
    "        while fast != slow:\n",
    "            fast=fast.next\n",
    "            slow=slow.next\n",
    "        return fast   "
   ]
  },
  {
   "cell_type": "code",
   "execution_count": 10,
   "metadata": {},
   "outputs": [
    {
     "name": "stdout",
     "output_type": "stream",
     "text": [
      "3\n"
     ]
    }
   ],
   "source": [
    "node1 = ListNode(1)\n",
    "node2 = ListNode(2)\n",
    "node3 = ListNode(3)\n",
    "node4 = ListNode(4)\n",
    "node5 = ListNode(5)\n",
    "node6 = ListNode(6)\n",
    "\n",
    "node1.next = node2\n",
    "node2.next = node3\n",
    "node3.next = node4\n",
    "node4.next = node5\n",
    "node5.next = node6\n",
    "node6.next = node3\n",
    "\n",
    "s = Solution()\n",
    "print(s.entr(node1).val)"
   ]
  },
  {
   "cell_type": "markdown",
   "metadata": {},
   "source": [
    "56.删除链表中重复的结点"
   ]
  },
  {
   "cell_type": "code",
   "execution_count": 1,
   "metadata": {},
   "outputs": [],
   "source": [
    "class ListNode:\n",
    "    def __init__(self, x):\n",
    "        self.val = x\n",
    "        self.next = None\n",
    "class Solution:\n",
    "    def deleteDuplication(self, pHead):\n",
    "        # 当前结点前的最晚访问过的不重复结点pPre、当前结点pCur、指向当前结点后面的结点pNext\n",
    "        pPre = None\n",
    "        pCur = pHead\n",
    "        pNext = None\n",
    "        while pCur != None:\n",
    "            #遇到第一个重复节点，当前节点值与下个节点相同\n",
    "            if pCur.next != None and pCur.val == pCur.next.val:\n",
    "                #定义当前节点后面的节点\n",
    "                pNext = pCur.next\n",
    "                #pNext的后面节点如果还与当前节点相同，则移动Next节点\n",
    "                while pNext.next != None and pNext.next.val == pCur.val:\n",
    "                    pNext = pNext.next\n",
    "                #如果当前节点是头节点，说明前面节点都重复了，则将头节点移动到Next的下一节点\n",
    "                if pCur == pHead:\n",
    "                    pHead = pNext.next\n",
    "                #如果不是则移动最晚访问的不重复节点\n",
    "                else:\n",
    "                    pPre.next = pNext.next\n",
    "                #移动当前节点继续遍历\n",
    "                pCur = pNext.next\n",
    "            #若没有重复节点则移动Pre和当前节点\n",
    "            else:\n",
    "                pPre = pCur\n",
    "                pCur = pCur.next\n",
    "        #最后返回头节点\n",
    "        return pHead"
   ]
  },
  {
   "cell_type": "code",
   "execution_count": 3,
   "metadata": {},
   "outputs": [],
   "source": [
    "# Definition for singly-linked list.\n",
    "class ListNode:\n",
    "    def __init__(self, x):\n",
    "        self.val = x\n",
    "        self.next = None\n",
    "\n",
    "class Solution:\n",
    "    def deleteDuplication(self, head):\n",
    "        \"\"\"\n",
    "        给定一个有序的链表，删除所有重复的节点\n",
    "        \"\"\"\n",
    "        # 我们先设置一个辅助节点\n",
    "        # begin用来定位在返回链表的头节点的前一个节点(辅助节点)上\n",
    "        # pre_node用来定位返回链表的尾节点\n",
    "        begin = pre_node = ListNode(0)\n",
    "        while head:\n",
    "            c = 0  # 当前值出现的次数，初始化为0可以使后续代码更简洁\n",
    "            val = head.val  # 当前值\n",
    "            # 记录当前节点，因为无论如何，head都会往前移动一次，当下面这个while退出之后，\n",
    "            # cur != head\n",
    "            cur = head\n",
    "            # 当前值连续出现的次数\n",
    "            while head and head.val == val:\n",
    "                c += 1\n",
    "                head = head.next\n",
    "            # 如果当前值只连续出现过1次，说明不是重复节点，需要将当前节点添加到链表的末尾\n",
    "            # 由于pre_node是定位尾节点的，所以每次添加一个尾节点的时候，需要将原尾节点(pre_node)\n",
    "            # 和新的尾节点连接起来，然后将pre_node重新定位到链表的尾节点\n",
    "            if c == 1:\n",
    "                pre_node.next = cur\n",
    "                pre_node = pre_node.next\n",
    "\n",
    "        # 当遍历完整个链表之后，注意要将尾节点与Null连接起来\n",
    "        pre_node.next = None\n",
    "        # begin在头节点的前一个节点(辅助节点)上，因此返回begin.next\n",
    "        return begin.next"
   ]
  },
  {
   "cell_type": "code",
   "execution_count": 4,
   "metadata": {},
   "outputs": [
    {
     "name": "stdout",
     "output_type": "stream",
     "text": [
      "5\n"
     ]
    }
   ],
   "source": [
    "node1 = ListNode(1)\n",
    "node2 = ListNode(2)\n",
    "node3 = ListNode(3)\n",
    "node4 = ListNode(3)\n",
    "node5 = ListNode(4)\n",
    "node6 = ListNode(4)\n",
    "node7 = ListNode(5)\n",
    "node1.next = node2\n",
    "node2.next = node3\n",
    "node3.next = node4\n",
    "node4.next = node5\n",
    "node5.next = node6\n",
    "node6.next = node7\n",
    "\n",
    "s = Solution()\n",
    "print(s.deleteDuplication(node1).next.next.val)"
   ]
  },
  {
   "cell_type": "markdown",
   "metadata": {},
   "source": [
    "57.二叉树的下一个结点"
   ]
  },
  {
   "cell_type": "code",
   "execution_count": 3,
   "metadata": {},
   "outputs": [],
   "source": [
    "class TreeLinkNode:\n",
    "    def __init__(self, x):\n",
    "        self.val = x\n",
    "        self.left = None\n",
    "        self.right = None\n",
    "        self.father = None\n",
    "class Solution:\n",
    "    def GetNext(self, pNode):\n",
    "        # 输入是一个空节点\n",
    "        if pNode == None:\n",
    "            return None\n",
    "        # 注意当前节点是根节点的情况。所以在最开始设定pNext = None, 如果下列情况都不满足, 说明当前结点为根节点, 直接输出None\n",
    "        pNext = None\n",
    "        # 对于非根节点，如果输入节点有右子树，则下一个结点是当前节点右子树中最左节点\n",
    "        #否则该节点只有叶子节点，下一值就是该右子节点\n",
    "        if pNode.right:\n",
    "            pNode = pNode.right\n",
    "            while pNode.left:\n",
    "                pNode = pNode.left\n",
    "            pNext = pNode\n",
    "        else:\n",
    "            # 如果当前节点有父节点且当前节点是父节点的左子节点, 下一个结点即为父节点\n",
    "            if pNode.father and pNode.father.left == pNode:\n",
    "                pNext = pNode.father\n",
    "            # 如果当前节点有父节点且当前节点是父节点的右子节点, 那么向上遍历\n",
    "            # 当遍历到当前节点为父节点的左子节点时, 输入节点的下一个结点为当前节点的父节点\n",
    "            elif pNode.father and pNode.father.right == pNode:\n",
    "                pNode = pNode.father\n",
    "                while pNode.father and pNode.father.right == pNode:\n",
    "                    pNode = pNode.father\n",
    "                # 遍历终止时当前节点有父节点, 说明当前节点是父节点的左子节点, 输入节点的下一个结点为当前节点的父节点\n",
    "                # 反之终止时当前节点没有父节点, 说明当前节点在位于根节点的右子树, 没有下一个结点\n",
    "                if pNode.father:\n",
    "                    pNext = pNode.father\n",
    "        return pNext"
   ]
  },
  {
   "cell_type": "markdown",
   "metadata": {},
   "source": [
    "58.对称的二叉树"
   ]
  },
  {
   "cell_type": "code",
   "execution_count": 15,
   "metadata": {},
   "outputs": [],
   "source": [
    "class TreeNode:\n",
    "    def __init__(self,x):\n",
    "        self.val=x\n",
    "        self.left=None\n",
    "        self.right=None\n",
    "class Solution:\n",
    "    #先判断根节点是否为空，是则必是对称的\n",
    "    def isdc(self,root):\n",
    "        if not root:\n",
    "            return True\n",
    "        return self.pd(root.left,root.right)\n",
    "    \n",
    "    def pd(self,left,right):\n",
    "        #如果没有左右节点则必是对称的\n",
    "        if not left and not right:\n",
    "            return True\n",
    "        #如果只有左节点或右节点则必是不对称的\n",
    "        if not left or not right:\n",
    "            return False\n",
    "        #遍历左右节点是否相等\n",
    "        if left.val==right.val:\n",
    "            return self.pd(left.left,right.right) and self.pd(left.right,right.left)\n",
    "        #如果有不相等的则不对成\n",
    "        return False"
   ]
  },
  {
   "cell_type": "code",
   "execution_count": 16,
   "metadata": {},
   "outputs": [
    {
     "name": "stdout",
     "output_type": "stream",
     "text": [
      "True\n"
     ]
    }
   ],
   "source": [
    "A1 = TreeNode(1)\n",
    "A2 = TreeNode(2)\n",
    "A3 = TreeNode(2)\n",
    "A4 = TreeNode(3)\n",
    "A5 = TreeNode(4)\n",
    "A6 = TreeNode(4)\n",
    "A7 = TreeNode(3)\n",
    "\n",
    "A1.left=A2\n",
    "A1.right=A3\n",
    "A2.left=A4\n",
    "A2.right=A5\n",
    "A3.left=A6\n",
    "A3.right=A7\n",
    "\n",
    "\n",
    "solution = Solution()\n",
    "ans=solution.isdc(A1)\n",
    "print(ans)"
   ]
  },
  {
   "cell_type": "markdown",
   "metadata": {},
   "source": [
    "59.之字形打印二叉树"
   ]
  },
  {
   "cell_type": "code",
   "execution_count": null,
   "metadata": {},
   "outputs": [],
   "source": [
    "class TreeNode:\n",
    "    def __init__(self, x):\n",
    "        self.val = x\n",
    "        self.left = None\n",
    "        self.right = None\n",
    "class Solution:\n",
    "    def Print(self, pRoot):\n",
    "        resultArray = []\n",
    "        if not pRoot:\n",
    "            return resultArray\n",
    "        #遍历层节点\n",
    "        curLayerNodes = [pRoot]\n",
    "        #偶数标志\n",
    "        isEvenLayer = True\n",
    "        #开始遍历\n",
    "        while curLayerNodes:\n",
    "            curLayerValues = []\n",
    "            nextLayerNodes = []\n",
    "            isEvenLayer = not isEvenLayer\n",
    "            for node in curLayerNodes:\n",
    "                curLayerValues.append(node.val)\n",
    "                if node.left:\n",
    "                    nextLayerNodes.append(node.left)\n",
    "                if node.right:\n",
    "                    nextLayerNodes.append(node.right)\n",
    "            curLayerNodes = nextLayerNodes\n",
    "            resultArray.append(curLayerValues[::-1]) if isEvenLayer else resultArray.append(curLayerValues)\n",
    "        return resultArray\n"
   ]
  }
 ],
 "metadata": {
  "kernelspec": {
   "display_name": "Python 3",
   "language": "python",
   "name": "python3"
  },
  "language_info": {
   "codemirror_mode": {
    "name": "ipython",
    "version": 3
   },
   "file_extension": ".py",
   "mimetype": "text/x-python",
   "name": "python",
   "nbconvert_exporter": "python",
   "pygments_lexer": "ipython3",
   "version": "3.6.1"
  }
 },
 "nbformat": 4,
 "nbformat_minor": 4
}
